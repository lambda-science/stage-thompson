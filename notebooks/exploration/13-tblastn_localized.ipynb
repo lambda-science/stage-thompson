{
 "cells": [
  {
   "cell_type": "code",
   "execution_count": 1,
   "metadata": {},
   "outputs": [],
   "source": [
    "import sqlite3\n",
    "import pandas as pd\n",
    "import os\n",
    "import sys\n",
    "import math\n",
    "import numpy as np\n",
    "\n",
    "def fasta2List(pathFasta):\n",
    "    f = open(pathFasta, \"r\")\n",
    "    title = []\n",
    "    seq = []\n",
    "    seq_temp = []\n",
    "    for line in f:\n",
    "        if line[0] == \">\":\n",
    "            seq.append(''.join(seq_temp).replace(\"\\n\", \"\"))\n",
    "            title.append(line.replace(\"\\n\", \"\"))\n",
    "            seq_temp = []\n",
    "        else:\n",
    "            seq_temp.append(line)\n",
    "    seq.append(''.join(seq_temp).replace(\"\\n\", \"\"))\n",
    "    seq.pop(0)\n",
    "    dictionary = dict(zip(title, seq))\n",
    "    return dictionary\n",
    "\n",
    "\n",
    "conn = sqlite3.connect('../../mismatch_db.db')\n",
    "mismatch = pd.read_sql_query(\"SELECT * FROM mismatch\", conn)\n",
    "mismatch = mismatch.astype({\"exon_start_prim\": \"Int64\", \"exon_stop_prim\":\"Int64\", \"exon_start_hum\": \"Int64\", \"exon_stop_hum\":\"Int64\"})\n",
    "\n",
    "prim_exon_introns = pd.read_sql_query(\"\"\"\n",
    "SELECT mismatch_ID, mismatch.prot_prim, exon_intron_map.'type', exon_intron_map.number_elem, exon_intron_map.seq\n",
    "FROM mismatch\n",
    "JOIN protein ON mismatch.prot_prim = protein.prot_ID\n",
    "JOIN transcript ON protein.transcript_ID = transcript.transcript_ID\n",
    "JOIN exon_intron_map ON transcript.transcript_ID = exon_intron_map.transcript_ID\n",
    "\"\"\", conn)\n"
   ]
  },
  {
   "cell_type": "code",
   "execution_count": 34,
   "metadata": {},
   "outputs": [],
   "source": [
    "out_folder = \"../../data/mismatch-analysis/tblastn2/\"\n",
    "raw_folder = \"../../data/raw/uniprot-blast/results/\"\n",
    "os.mkdir(out_folder)\n",
    "os.mkdir(out_folder+\"/query_subject\")\n",
    "os.mkdir(out_folder+\"/blast_out\")"
   ]
  },
  {
   "cell_type": "code",
   "execution_count": 37,
   "metadata": {},
   "outputs": [],
   "source": [
    "fff = open(out_folder+\"/all_couple.txt\", \"w\")\n",
    "for index, row in mismatch.iloc[:, :].iterrows():\n",
    "    fasta_name = row[1]\n",
    "    prot_name = row[2]\n",
    "    peptide_Ref = row[12]\n",
    "\n",
    "    # Si un seul exon alors on prend les deux introns autour\n",
    "    if row[8] - row[7] == 0:\n",
    "        try:\n",
    "            prim_exon = prim_exon_introns.loc[(prim_exon_introns[\"mismatch_ID\"]==row[0]) & (prim_exon_introns[\"number_elem\"].isin(range(row[7],row[8]+1))) & (prim_exon_introns[\"type\"]==\"Exon\")]\n",
    "            prim_intron = prim_exon_introns.loc[(prim_exon_introns[\"mismatch_ID\"]==row[0]) & (prim_exon_introns[\"number_elem\"].isin(range(row[7]-1,row[8]+1))) & (prim_exon_introns[\"type\"]==\"Intron\")]\n",
    "        except:\n",
    "            continue\n",
    "        genomic_Seq = \"\"\n",
    "        for i in range(0,row[8]+2-row[7]):\n",
    "            genomic_Seq += prim_intron.iloc[i,4]\n",
    "            try: genomic_Seq += prim_exon.iloc[i,4]\n",
    "            except: pass\n",
    "\n",
    "    # Si 2 ou plus exons alors on prend les introns au centre\n",
    "    if row[8] - row[7] != 0:\n",
    "        try:\n",
    "            prim_exon = prim_exon_introns.loc[(prim_exon_introns[\"mismatch_ID\"]==row[0]) & (prim_exon_introns[\"number_elem\"].isin(range(row[7],row[8]+1))) & (prim_exon_introns[\"type\"]==\"Exon\")]\n",
    "            prim_intron = prim_exon_introns.loc[(prim_exon_introns[\"mismatch_ID\"]==row[0]) & (prim_exon_introns[\"number_elem\"].isin(range(row[7],row[8]))) & (prim_exon_introns[\"type\"]==\"Intron\")]\n",
    "        except:\n",
    "            continue\n",
    "        genomic_Seq = \"\"\n",
    "        for i in range(0,row[8]+1-row[7]):\n",
    "            genomic_Seq += prim_exon.iloc[i,4]\n",
    "            try: genomic_Seq += prim_intron.iloc[i,4]\n",
    "            except: pass\n",
    "\n",
    "    f = open(out_folder+\"/query_subject/\"+str(index)+\"_\" +\n",
    "             str(row[1])+\"_\"+str(prot_name)+\".subject\", \"w\")\n",
    "    ff = open(out_folder+\"/query_subject/\"+str(index)+\"_\" +\n",
    "              str(row[1])+\"_\"+str(prot_name)+\".query\", \"w\")\n",
    "\n",
    "    f.write(\">\"+prot_name+\"\\n\"+str(genomic_Seq))\n",
    "    ff.write(\">\"+row[1]+\"\\n\"+str(peptide_Ref))\n",
    "    fff.write(str(index)+\"_\" +\n",
    "              str(row[1])+\"_\"+str(prot_name)+\"\\n\")\n",
    "\n",
    "    f.close()\n",
    "    ff.close()\n",
    "fff.close()"
   ]
  },
  {
   "cell_type": "code",
   "execution_count": null,
   "metadata": {},
   "outputs": [],
   "source": [
    "# EXECUTER LES COMMANDES SUIVANTE DANS UN TERMINAL AVANT LA PROCHAIANE CELLULE:\n",
    "# Ces commandes permettent de réaliser les tblastn puis de le process pour récupérer les hits.\n",
    "# ./bin/tblastn_extend.sh data/mismatch-analysis/\n",
    "# python src/tblastn_process_9_1.py data/mismatch-analysis/tblastn2/match.out data/mismatch-analysis/uniprot_errors_type3.txt ../data/mismatch-analysis/tblastn2/"
   ]
  },
  {
   "cell_type": "code",
   "execution_count": null,
   "metadata": {},
   "outputs": [],
   "source": [
    "# Créer la table tblastn dans la base de données\n",
    "tblastn = pd.read_csv(\"../../data/mismatch-analysis/tblastn2/match.out\", sep=\"\\t\")\n",
    "tblastn.drop([\"Match\", \"Similarity\", \"Length\", \"Frame\"], axis=1, inplace=True)\n",
    "tblastn = tblastn.rename({\"Primate\":\"prot_ID_prim\", \"Human\":\"prot_ID_hum\", \"Seq Primate\":\"seq_in_prim\", \"Seq Human\":\"peptide_hum\", \"Start #Genome\":\"start_genom\", \"Stop Genome\":\"stop_genom\", \"E-value\":\"e_value\"},axis=1)\n",
    "tblastn.to_sql(con=conn, name='tblastn_match', index=False, if_exists=\"append\")"
   ]
  }
 ],
 "metadata": {
  "kernelspec": {
   "display_name": "Python 3.7.6 64-bit ('stage-env': conda)",
   "language": "python",
   "name": "python37664bitstageenvconda39052ae7dd75404f9bdb3226673ac6d7"
  },
  "language_info": {
   "codemirror_mode": {
    "name": "ipython",
    "version": 3
   },
   "file_extension": ".py",
   "mimetype": "text/x-python",
   "name": "python",
   "nbconvert_exporter": "python",
   "pygments_lexer": "ipython3",
   "version": "3.7.6"
  }
 },
 "nbformat": 4,
 "nbformat_minor": 4
}