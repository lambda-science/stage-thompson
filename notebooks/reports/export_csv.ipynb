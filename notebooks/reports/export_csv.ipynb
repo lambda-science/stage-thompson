{
 "cells": [
  {
   "cell_type": "code",
   "execution_count": 13,
   "metadata": {},
   "outputs": [],
   "source": [
    "import sqlite3\n",
    "import pandas as pd\n",
    "conn = sqlite3.connect('../../mismatch_db.db')\n",
    "mismatch_to_correct = pd.read_sql_query(\n",
    "\"\"\"SELECT mismatch.*, mismatch_flag.*\n",
    "FROM mismatch_flag \n",
    "JOIN mismatch on mismatch_flag.mismatch_ID = mismatch.mismatch_ID \n",
    "WHERE (one_hum_multiple_prim = 1\n",
    "OR non_canonical_hum_spl = 1\n",
    "OR N_in_genomic = 1\n",
    "OR small_introns = 1\n",
    "OR frameshift = 1)\n",
    "AND conserved = 0\n",
    "AND repeats_prot = 0\n",
    "AND alignement_error = 0\n",
    "AND human_isoform_exist = 0\n",
    "\"\"\", conn)\n",
    "mismatch_to_correct = mismatch_to_correct.loc[:,~mismatch_to_correct.columns.duplicated()]"
   ]
  },
  {
   "cell_type": "code",
   "execution_count": 16,
   "metadata": {},
   "outputs": [],
   "source": [
    "mismatch_to_correct.to_csv(\"../../temp/julie/mispredicted_mismatch_and_flag.csv\", sep=\"\\t\", index=False)"
   ]
  }
 ],
 "metadata": {
  "file_extension": ".py",
  "kernelspec": {
   "display_name": "Python 3.7.6 64-bit ('stage-env': conda)",
   "language": "python",
   "name": "python37664bitstageenvconda39052ae7dd75404f9bdb3226673ac6d7"
  },
  "language_info": {
   "codemirror_mode": {
    "name": "ipython",
    "version": 3
   },
   "file_extension": ".py",
   "mimetype": "text/x-python",
   "name": "python",
   "nbconvert_exporter": "python",
   "pygments_lexer": "ipython3",
   "version": "3.7.6"
  },
  "mimetype": "text/x-python",
  "name": "python",
  "npconvert_exporter": "python",
  "pygments_lexer": "ipython3",
  "version": 3
 },
 "nbformat": 4,
 "nbformat_minor": 4
}
